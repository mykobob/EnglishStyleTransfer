{
 "cells": [
  {
   "cell_type": "code",
   "execution_count": 1,
   "metadata": {},
   "outputs": [],
   "source": [
    "import json\n",
    "from collections import defaultdict"
   ]
  },
  {
   "cell_type": "code",
   "execution_count": 44,
   "metadata": {},
   "outputs": [],
   "source": [
    "def get_verse_info(src_text):\n",
    "    # Get Book with number of chapters and number of verses\n",
    "    # dict of book name to array of numbers for # of verses\n",
    "    with open(src_text) as f:\n",
    "        text = json.load(f)\n",
    "        info = defaultdict(lambda: defaultdict(list))\n",
    "        for verse_info in text:\n",
    "            book_name = verse_info['book_name']\n",
    "            chap_num = int(verse_info['chapter_id'])\n",
    "            info[book_name][chap_num].append(verse_info['verse_text'])\n",
    "    \n",
    "    return info\n",
    "\n",
    "ot = get_verse_info('data/esv_ot.txt')\n",
    "# for book_name, verses in ot.items():\n",
    "#     print(book_name, len(verses))\n",
    "nt = get_verse_info('data/esv_nt.txt')\n",
    "# for book_name, verses in nt.items():\n",
    "#     print(book_name, len(verses))\n",
    "bible = {**ot, **nt}\n",
    "# for book_name, verses in bible.items():\n",
    "#     print(book_name, len(verses))"
   ]
  },
  {
   "cell_type": "markdown",
   "metadata": {},
   "source": [
    "The rule is: if the line only consists of numbers, then the next line consists of the verse\n",
    "If it starts with a number and then text, it will be that verse's text.\n",
    "Maybe get the # of verse per chapter from ESV, and apply it here. Hard to distinguish between chapters in this text"
   ]
  },
  {
   "cell_type": "code",
   "execution_count": 19,
   "metadata": {},
   "outputs": [
    {
     "ename": "FileNotFoundError",
     "evalue": "[Errno 2] No such file or directory: 'nlt_new.txt'",
     "output_type": "error",
     "traceback": [
      "\u001b[0;31m---------------------------------------------------------------------------\u001b[0m",
      "\u001b[0;31mFileNotFoundError\u001b[0m                         Traceback (most recent call last)",
      "\u001b[0;32m<ipython-input-19-0ce0e34528c0>\u001b[0m in \u001b[0;36m<module>\u001b[0;34m()\u001b[0m\n\u001b[1;32m     41\u001b[0m             \u001b[0mdest\u001b[0m\u001b[0;34m.\u001b[0m\u001b[0mwrite\u001b[0m\u001b[0;34m(\u001b[0m\u001b[0;34m'\\n'\u001b[0m\u001b[0;34m)\u001b[0m\u001b[0;34m\u001b[0m\u001b[0m\n\u001b[1;32m     42\u001b[0m \u001b[0;34m\u001b[0m\u001b[0m\n\u001b[0;32m---> 43\u001b[0;31m \u001b[0mconvert_nlt\u001b[0m\u001b[0;34m(\u001b[0m\u001b[0mbible\u001b[0m\u001b[0;34m,\u001b[0m \u001b[0;34m'nlt_new.txt'\u001b[0m\u001b[0;34m,\u001b[0m \u001b[0;34m'nlt_something.txt'\u001b[0m\u001b[0;34m)\u001b[0m\u001b[0;34m\u001b[0m\u001b[0m\n\u001b[0m\u001b[1;32m     44\u001b[0m \u001b[0;34m\u001b[0m\u001b[0m\n",
      "\u001b[0;32m<ipython-input-19-0ce0e34528c0>\u001b[0m in \u001b[0;36mconvert_nlt\u001b[0;34m(bible_info, nlt_src, nlt_dest)\u001b[0m\n\u001b[1;32m      1\u001b[0m \u001b[0;32mdef\u001b[0m \u001b[0mconvert_nlt\u001b[0m\u001b[0;34m(\u001b[0m\u001b[0mbible_info\u001b[0m\u001b[0;34m,\u001b[0m \u001b[0mnlt_src\u001b[0m\u001b[0;34m,\u001b[0m \u001b[0mnlt_dest\u001b[0m\u001b[0;34m)\u001b[0m\u001b[0;34m:\u001b[0m\u001b[0;34m\u001b[0m\u001b[0m\n\u001b[0;32m----> 2\u001b[0;31m     \u001b[0;32mwith\u001b[0m \u001b[0mopen\u001b[0m\u001b[0;34m(\u001b[0m\u001b[0mnlt_src\u001b[0m\u001b[0;34m,\u001b[0m \u001b[0;34m'r'\u001b[0m\u001b[0;34m)\u001b[0m \u001b[0;32mas\u001b[0m \u001b[0msrc\u001b[0m\u001b[0;34m:\u001b[0m\u001b[0;34m\u001b[0m\u001b[0m\n\u001b[0m\u001b[1;32m      3\u001b[0m         \u001b[0mlines\u001b[0m \u001b[0;34m=\u001b[0m \u001b[0msrc\u001b[0m\u001b[0;34m.\u001b[0m\u001b[0mreadlines\u001b[0m\u001b[0;34m(\u001b[0m\u001b[0;34m)\u001b[0m\u001b[0;34m\u001b[0m\u001b[0m\n\u001b[1;32m      4\u001b[0m \u001b[0;34m\u001b[0m\u001b[0m\n\u001b[1;32m      5\u001b[0m     \u001b[0mnlt\u001b[0m \u001b[0;34m=\u001b[0m \u001b[0;34m[\u001b[0m\u001b[0;34m]\u001b[0m\u001b[0;34m\u001b[0m\u001b[0m\n",
      "\u001b[0;31mFileNotFoundError\u001b[0m: [Errno 2] No such file or directory: 'nlt_new.txt'"
     ]
    }
   ],
   "source": [
    "def convert_nlt(bible_info, nlt_src, nlt_dest):\n",
    "    with open(nlt_src, 'r') as src:\n",
    "        lines = src.readlines()\n",
    "        \n",
    "    nlt = []\n",
    "    # dict of book name to chapter to list of verses\n",
    "    cur_book_name = ''\n",
    "    book_names = []\n",
    "    expected_book_idx = 0\n",
    "    is_read_book_names = False\n",
    "    current_verse = \"\"\n",
    "    current_chapter = 1\n",
    "    for line in lines:\n",
    "        line = line.strip()\n",
    "        if line == 'Book Names':\n",
    "            is_read_book_names = True\n",
    "        elif is_read_book_names:\n",
    "            if line:\n",
    "                book_names.append(line)\n",
    "            else:\n",
    "                is_read_book_names = False\n",
    "        else: # Reading verses\n",
    "            if expected_book_idx < len(book_names) and line == book_names[expected_book_idx]:\n",
    "                if current_verse.strip():\n",
    "                    nlt.append(current_verse.strip())\n",
    "                cur_book_name = line\n",
    "                current_chapter = 1\n",
    "                expected_book_idx += 1\n",
    "                current_verse = ''\n",
    "            else:\n",
    "                prefix_len = get_int_prefix(line)\n",
    "                if prefix_len >= 0: # new verse\n",
    "                    nlt.append(current_verse)\n",
    "                    current_verse = line[prefix_len:]\n",
    "                else:\n",
    "                    current_verse += ' {}'.format(line)\n",
    "                    \n",
    "    with open(nlt_dest, 'w') as dest:\n",
    "        for verse in nlt:\n",
    "            dest.write(verse)\n",
    "            dest.write('\\n')\n",
    "\n",
    "convert_nlt(bible, 'nlt_new.txt', 'nlt_something.txt') "
   ]
  },
  {
   "cell_type": "code",
   "execution_count": 122,
   "metadata": {},
   "outputs": [],
   "source": [
    "def num_chapters(nlt, book_name):\n",
    "    return len(nlt[book_name])\n",
    "\n",
    "def num_verses(nlt, book_name, chapter):\n",
    "    return len(nlt[book_name][chapter])\n",
    "\n",
    "def read_nlt_something(bible_info, nlt_src):\n",
    "    nlt = defaultdict(lambda : defaultdict(list))\n",
    "    book_names = list(bible_info.keys())\n",
    "    name_idx = 0\n",
    "    chapter_idx = 0\n",
    "    with open(nlt_src, 'r') as f:\n",
    "        lines = f.readlines()\n",
    "    \n",
    "    line_idx = 0\n",
    "    for book_name in book_names:\n",
    "        for chapter_idx in range(num_chapters(bible_info, book_name)):\n",
    "            for verse_idx in range(bible_info[book_name][chapter_idx]):\n",
    "#                 if line_idx < len(lines):\n",
    "                nlt[book_name][chapter_idx].append(lines[line_idx])\n",
    "                line_idx += 1\n",
    "\n",
    "    return book_names, nlt\n",
    "\n",
    "book_names, nlt = read_nlt_something(bible, 'nlt_something.txt')"
   ]
  },
  {
   "cell_type": "code",
   "execution_count": 127,
   "metadata": {},
   "outputs": [],
   "source": [
    "with open('data/nlt_final.txt', 'w') as f:\n",
    "    json.dump(nlt, f)"
   ]
  },
  {
   "cell_type": "code",
   "execution_count": 47,
   "metadata": {},
   "outputs": [
    {
     "name": "stdout",
     "output_type": "stream",
     "text": [
      "True\n"
     ]
    }
   ],
   "source": [
    "def is_valid(gt, nlt):\n",
    "    if len(gt) != len(nlt): # Number of books\n",
    "        print(f'Exptected {len(gt)} # of books, but got {len(nlt)} # of books')\n",
    "        return False\n",
    "    \n",
    "    for book_name in gt:\n",
    "        if book_name not in nlt:\n",
    "            print(f'{book_name} not found in NLT')\n",
    "            return False\n",
    "        if len(gt[book_name]) != len(nlt[book_name]):\n",
    "            print(f'Expected {len(gt[book_name])} chapters for {book_name} but got {len(nlt[book_name])}')\n",
    "            return False\n",
    "        for chap_idx, verses in gt[book_name].items():\n",
    "            if len(nlt[book_name][chap_idx]) != len(verses):\n",
    "                print(f'Expected {len(verses)} verses for {book_name} {chap_idx} but got {len(nlt[book_name][chap_idx])} verses')\n",
    "                return False\n",
    "    \n",
    "    return True\n",
    "\n",
    "with open('data/nlt_final.txt') as f:\n",
    "    data = json.load(f)\n",
    "    nlt = defaultdict(lambda: defaultdict(list))\n",
    "    count = 0\n",
    "    for book_name, values in data.items():\n",
    "        for chap_idx, verses in values.items():\n",
    "            nlt[book_name][int(chap_idx) + 1] = verses\n",
    "    print(is_valid(bible, nlt))"
   ]
  },
  {
   "cell_type": "code",
   "execution_count": null,
   "metadata": {},
   "outputs": [],
   "source": []
  }
 ],
 "metadata": {
  "kernelspec": {
   "display_name": "Python 3",
   "language": "python",
   "name": "python3"
  },
  "language_info": {
   "codemirror_mode": {
    "name": "ipython",
    "version": 3
   },
   "file_extension": ".py",
   "mimetype": "text/x-python",
   "name": "python",
   "nbconvert_exporter": "python",
   "pygments_lexer": "ipython3",
   "version": "3.7.0"
  }
 },
 "nbformat": 4,
 "nbformat_minor": 2
}
